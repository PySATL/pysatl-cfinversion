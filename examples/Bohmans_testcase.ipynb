{
 "cells": [
  {
   "cell_type": "code",
   "execution_count": 10,
   "id": "53492b49-45e5-4858-a637-9efe2060c172",
   "metadata": {},
   "outputs": [],
   "source": [
    "import sys\n",
    "\n",
    "sys.path.append('../src')"
   ]
  },
  {
   "cell_type": "code",
   "execution_count": 12,
   "id": "4929960b-164e-4860-abf3-ad92836ccac8",
   "metadata": {},
   "outputs": [],
   "source": [
    "from numpy import exp, pi, sqrt\n",
    "from CharFuncInverter.bohman1975 import A, B, C, D, E\n",
    "import pandas as pd\n",
    "import numpy as np"
   ]
  },
  {
   "cell_type": "markdown",
   "id": "e8d4d24c-348c-4bcf-b11d-ed19cfd40dfc",
   "metadata": {},
   "source": [
    "# Провалидируем классы, опираясь на рассчёты описанные в статье Бохмана."
   ]
  },
  {
   "cell_type": "markdown",
   "id": "38f833db-e3cb-4437-90e2-8e7dcd9ac056",
   "metadata": {},
   "source": [
    "В качестве характеристической функции было следущее выражение:\n",
    "$$\\phi(t) = (1 -it \\sqrt{2})^{0.5}\\cdot exp(\\frac{-it}{\\sqrt{2}}).$$\n",
    "Параметры в примере: $N = 512$, $K = 4$, $d = \\frac{0.35}{16}$"
   ]
  },
  {
   "cell_type": "code",
   "execution_count": 13,
   "id": "01c68a43-b2a1-4b78-981c-45ac9d030327",
   "metadata": {},
   "outputs": [],
   "source": [
    "phi = lambda t : ((1 - 1j * t * sqrt(2)) ** (-0.5)) * exp((-1j * t) / sqrt(2))\n",
    "\n",
    "N = 512\n",
    "K = 4\n",
    "d = 0.35 / 16\n",
    "delta = (2 * pi) / (N * d)"
   ]
  },
  {
   "cell_type": "markdown",
   "id": "0b6bb98c-31a9-4556-9d69-62ead3ee4c05",
   "metadata": {},
   "source": [
    "Также были заданы значения функции распределения в 18 точках"
   ]
  },
  {
   "cell_type": "code",
   "execution_count": 14,
   "id": "819bffe1-992a-4a83-92ab-e7821e486785",
   "metadata": {},
   "outputs": [],
   "source": [
    "F_exact = {\n",
    "    -5.60 : 0,\n",
    "    -4.55 : 0,\n",
    "    -3.50 : 0,\n",
    "    -2.45 : 0,\n",
    "    -1.40 : 0,\n",
    "    -1.05 : 0,\n",
    "    -0.70 : 79586,\n",
    "    -0.35 : 522700,\n",
    "    0 : 682690,\n",
    "    0.35 : 778553,\n",
    "    0.70 : 841654,\n",
    "    1.40 : 915695,\n",
    "    1.75 : 937693,\n",
    "    2.10 : 953678,\n",
    "    3.15 : 980485,\n",
    "    4.20 : 991570,\n",
    "    5.25 : 996298\n",
    "}\n",
    "xs = F_exact.keys()"
   ]
  },
  {
   "cell_type": "code",
   "execution_count": 16,
   "id": "f4ebed3f-b036-4b87-94f6-8153167098a2",
   "metadata": {},
   "outputs": [
    {
     "data": {
      "text/plain": [
       "array([-0.35232467-0.03378854j, -0.31605063+0.23168238j,\n",
       "       -0.09639783+0.43443868j,  0.24470505+0.46627912j,\n",
       "        0.60794495+0.28502237j,  0.72351528+0.18736706j,\n",
       "        0.83838663+0.08818682j,  0.94654181+0.01673443j,\n",
       "        1.        +0.j        ,  0.94654181-0.01673443j,\n",
       "        0.83838663-0.08818682j,  0.60794495-0.28502237j,\n",
       "        0.4894611 -0.36750803j,  0.3677386 -0.42881365j,\n",
       "        0.00861041-0.46792474j, -0.26157177-0.31241396j,\n",
       "       -0.3613715 -0.05378073j])"
      ]
     },
     "execution_count": 16,
     "metadata": {},
     "output_type": "execute_result"
    }
   ],
   "source": [
    "phi(np.array(list(xs)))"
   ]
  },
  {
   "cell_type": "markdown",
   "id": "bd6823a0-1584-4cbb-aa01-d07d58e5ca2a",
   "metadata": {},
   "source": [
    "Создадим экземпляры классов, которые будут аппроксимировать характеристическую функцию"
   ]
  },
  {
   "cell_type": "code",
   "execution_count": 17,
   "id": "49eaa7b2-0d1f-4077-a812-9e64f8a509e3",
   "metadata": {},
   "outputs": [],
   "source": [
    "approxs = {\n",
    "    'A' : A(N, delta, phi),\n",
    "    'B' : B(N, delta, phi),\n",
    "    'C' : C(N, delta, phi),\n",
    "    'D' : D(N, delta, phi, K),\n",
    "    'E' : E(N, delta, phi, K)\n",
    "}\n",
    "values = []\n",
    "\n",
    "for name in approxs:\n",
    "  approx_func = approxs[name]\n",
    "  values.append([(approx_func.cdf(x).real * 1e6 - F_exact[x]) for x in xs])\n",
    "\n",
    "values = np.array(values)"
   ]
  },
  {
   "cell_type": "code",
   "execution_count": 18,
   "id": "08f552b0-f24d-4e15-84b8-0ff707407614",
   "metadata": {},
   "outputs": [
    {
     "data": {
      "text/html": [
       "<div>\n",
       "<style scoped>\n",
       "    .dataframe tbody tr th:only-of-type {\n",
       "        vertical-align: middle;\n",
       "    }\n",
       "\n",
       "    .dataframe tbody tr th {\n",
       "        vertical-align: top;\n",
       "    }\n",
       "\n",
       "    .dataframe thead th {\n",
       "        text-align: right;\n",
       "    }\n",
       "</style>\n",
       "<table border=\"1\" class=\"dataframe\">\n",
       "  <thead>\n",
       "    <tr style=\"text-align: right;\">\n",
       "      <th></th>\n",
       "      <th>A</th>\n",
       "      <th>B</th>\n",
       "      <th>C</th>\n",
       "      <th>D</th>\n",
       "      <th>E</th>\n",
       "    </tr>\n",
       "  </thead>\n",
       "  <tbody>\n",
       "    <tr>\n",
       "      <th>-5.60</th>\n",
       "      <td>-2835.655730</td>\n",
       "      <td>-2822.021892</td>\n",
       "      <td>-2835.645013</td>\n",
       "      <td>20.786333</td>\n",
       "      <td>1.535679</td>\n",
       "    </tr>\n",
       "    <tr>\n",
       "      <th>-4.55</th>\n",
       "      <td>-1269.515740</td>\n",
       "      <td>-1257.417101</td>\n",
       "      <td>-1269.515725</td>\n",
       "      <td>6.848571</td>\n",
       "      <td>0.665318</td>\n",
       "    </tr>\n",
       "    <tr>\n",
       "      <th>-3.50</th>\n",
       "      <td>-574.605167</td>\n",
       "      <td>-564.686397</td>\n",
       "      <td>-574.605167</td>\n",
       "      <td>-4.245824</td>\n",
       "      <td>0.111002</td>\n",
       "    </tr>\n",
       "    <tr>\n",
       "      <th>-2.45</th>\n",
       "      <td>-260.973463</td>\n",
       "      <td>-255.150637</td>\n",
       "      <td>-260.973463</td>\n",
       "      <td>-12.100360</td>\n",
       "      <td>-2.771487</td>\n",
       "    </tr>\n",
       "    <tr>\n",
       "      <th>-1.40</th>\n",
       "      <td>-106.938778</td>\n",
       "      <td>-115.760781</td>\n",
       "      <td>-106.938778</td>\n",
       "      <td>-8.587604</td>\n",
       "      <td>-12.340057</td>\n",
       "    </tr>\n",
       "    <tr>\n",
       "      <th>-1.05</th>\n",
       "      <td>-56.835252</td>\n",
       "      <td>-88.472087</td>\n",
       "      <td>-56.835252</td>\n",
       "      <td>11.127882</td>\n",
       "      <td>-13.675321</td>\n",
       "    </tr>\n",
       "    <tr>\n",
       "      <th>-0.70</th>\n",
       "      <td>-4123.270736</td>\n",
       "      <td>-8451.476950</td>\n",
       "      <td>-4123.270736</td>\n",
       "      <td>-4079.488504</td>\n",
       "      <td>-8395.857056</td>\n",
       "    </tr>\n",
       "    <tr>\n",
       "      <th>-0.35</th>\n",
       "      <td>-117.335538</td>\n",
       "      <td>-130.953419</td>\n",
       "      <td>-117.335538</td>\n",
       "      <td>-92.985080</td>\n",
       "      <td>-85.920671</td>\n",
       "    </tr>\n",
       "    <tr>\n",
       "      <th>0.00</th>\n",
       "      <td>-80.103089</td>\n",
       "      <td>-70.163900</td>\n",
       "      <td>-80.103089</td>\n",
       "      <td>-71.554857</td>\n",
       "      <td>-29.446675</td>\n",
       "    </tr>\n",
       "    <tr>\n",
       "      <th>0.35</th>\n",
       "      <td>-61.057530</td>\n",
       "      <td>-45.994062</td>\n",
       "      <td>-61.057530</td>\n",
       "      <td>-65.543397</td>\n",
       "      <td>-6.791820</td>\n",
       "    </tr>\n",
       "    <tr>\n",
       "      <th>0.70</th>\n",
       "      <td>-50.572632</td>\n",
       "      <td>-33.737769</td>\n",
       "      <td>-50.572632</td>\n",
       "      <td>-65.988935</td>\n",
       "      <td>3.476592</td>\n",
       "    </tr>\n",
       "    <tr>\n",
       "      <th>1.40</th>\n",
       "      <td>-35.741210</td>\n",
       "      <td>-18.076167</td>\n",
       "      <td>-35.741210</td>\n",
       "      <td>-68.649986</td>\n",
       "      <td>8.816210</td>\n",
       "    </tr>\n",
       "    <tr>\n",
       "      <th>1.75</th>\n",
       "      <td>-32.067856</td>\n",
       "      <td>-14.473949</td>\n",
       "      <td>-32.067856</td>\n",
       "      <td>-72.251366</td>\n",
       "      <td>5.641841</td>\n",
       "    </tr>\n",
       "    <tr>\n",
       "      <th>2.10</th>\n",
       "      <td>-27.953954</td>\n",
       "      <td>-10.563882</td>\n",
       "      <td>-27.953954</td>\n",
       "      <td>-74.782571</td>\n",
       "      <td>3.525119</td>\n",
       "    </tr>\n",
       "    <tr>\n",
       "      <th>3.15</th>\n",
       "      <td>-21.113144</td>\n",
       "      <td>-4.675743</td>\n",
       "      <td>-21.113144</td>\n",
       "      <td>-85.904061</td>\n",
       "      <td>-0.200211</td>\n",
       "    </tr>\n",
       "    <tr>\n",
       "      <th>4.20</th>\n",
       "      <td>-17.787241</td>\n",
       "      <td>-2.480851</td>\n",
       "      <td>-17.787242</td>\n",
       "      <td>-100.302732</td>\n",
       "      <td>-0.644284</td>\n",
       "    </tr>\n",
       "    <tr>\n",
       "      <th>5.25</th>\n",
       "      <td>-14.791953</td>\n",
       "      <td>-0.714260</td>\n",
       "      <td>-14.793294</td>\n",
       "      <td>-117.689772</td>\n",
       "      <td>0.129862</td>\n",
       "    </tr>\n",
       "  </tbody>\n",
       "</table>\n",
       "</div>"
      ],
      "text/plain": [
       "                 A            B            C            D            E\n",
       "-5.60 -2835.655730 -2822.021892 -2835.645013    20.786333     1.535679\n",
       "-4.55 -1269.515740 -1257.417101 -1269.515725     6.848571     0.665318\n",
       "-3.50  -574.605167  -564.686397  -574.605167    -4.245824     0.111002\n",
       "-2.45  -260.973463  -255.150637  -260.973463   -12.100360    -2.771487\n",
       "-1.40  -106.938778  -115.760781  -106.938778    -8.587604   -12.340057\n",
       "-1.05   -56.835252   -88.472087   -56.835252    11.127882   -13.675321\n",
       "-0.70 -4123.270736 -8451.476950 -4123.270736 -4079.488504 -8395.857056\n",
       "-0.35  -117.335538  -130.953419  -117.335538   -92.985080   -85.920671\n",
       " 0.00   -80.103089   -70.163900   -80.103089   -71.554857   -29.446675\n",
       " 0.35   -61.057530   -45.994062   -61.057530   -65.543397    -6.791820\n",
       " 0.70   -50.572632   -33.737769   -50.572632   -65.988935     3.476592\n",
       " 1.40   -35.741210   -18.076167   -35.741210   -68.649986     8.816210\n",
       " 1.75   -32.067856   -14.473949   -32.067856   -72.251366     5.641841\n",
       " 2.10   -27.953954   -10.563882   -27.953954   -74.782571     3.525119\n",
       " 3.15   -21.113144    -4.675743   -21.113144   -85.904061    -0.200211\n",
       " 4.20   -17.787241    -2.480851   -17.787242  -100.302732    -0.644284\n",
       " 5.25   -14.791953    -0.714260   -14.793294  -117.689772     0.129862"
      ]
     },
     "execution_count": 18,
     "metadata": {},
     "output_type": "execute_result"
    }
   ],
   "source": [
    "column_names = [\"A\", \"B\", \"C\", \"D\", \"E\"]\n",
    "res = pd.DataFrame(values.transpose(), index=xs, columns=column_names)\n",
    "res"
   ]
  },
  {
   "cell_type": "code",
   "execution_count": 31,
   "id": "2505ddab-33b6-4584-8172-dbaff54241f1",
   "metadata": {},
   "outputs": [
    {
     "data": {
      "text/plain": [
       "np.float64(4788445.307220343)"
      ]
     },
     "execution_count": 31,
     "metadata": {},
     "output_type": "execute_result"
    }
   ],
   "source": [
    "Total = (res['B']**2).sum()/len(res['E'])\n",
    "Total"
   ]
  },
  {
   "cell_type": "markdown",
   "id": "49cbca98-4b00-48b7-9887-e6ff8fb4f088",
   "metadata": {},
   "source": [
    "### Вывод\n",
    "Полученные, с помощью написанных функций результаты совпадают с описанными Бохманом в статье, по модулю округления"
   ]
  },
  {
   "cell_type": "code",
   "execution_count": null,
   "id": "5209e13f-6b73-4e8b-a1ce-12402701aaac",
   "metadata": {},
   "outputs": [],
   "source": []
  },
  {
   "cell_type": "code",
   "execution_count": 32,
   "id": "c302fceb-f471-4e6e-9efe-880c3a1f4a54",
   "metadata": {},
   "outputs": [],
   "source": [
    "class CharFuncInverter:\n",
    "    def __init__(self):\n",
    "        pass\n",
    "\n",
    "    def fit(self):\n",
    "        pass\n",
    "\n",
    "    def cdf(self, x):\n",
    "        pass\n"
   ]
  },
  {
   "cell_type": "code",
   "execution_count": null,
   "id": "59005da7-594f-40ce-8f84-748ff6613938",
   "metadata": {},
   "outputs": [],
   "source": []
  },
  {
   "cell_type": "code",
   "execution_count": 137,
   "id": "f3488159-5b6c-4b97-b53d-9e26ecc13c12",
   "metadata": {},
   "outputs": [
    {
     "name": "stdout",
     "output_type": "stream",
     "text": [
      "[ 1.53567873e+00  6.65317665e-01  1.11001697e-01 -2.77148667e+00\n",
      " -1.23400570e+01 -1.36753213e+01 -8.39585706e+03 -8.59206714e+01\n",
      " -2.94466752e+01 -6.79181993e+00  3.47659247e+00  8.81621025e+00\n",
      "  5.64184071e+00  3.52511907e+00 -2.00211305e-01 -6.44283639e-01\n",
      "  1.29861858e-01]\n"
     ]
    },
    {
     "data": {
      "text/plain": [
       "array([[[    1],\n",
       "        [    0],\n",
       "        [    0],\n",
       "        [   -2],\n",
       "        [  -12],\n",
       "        [  -13],\n",
       "        [-8395],\n",
       "        [  -85],\n",
       "        [  -29],\n",
       "        [   -6],\n",
       "        [    3],\n",
       "        [    8],\n",
       "        [    5],\n",
       "        [    3],\n",
       "        [    0],\n",
       "        [    0],\n",
       "        [    0]]])"
      ]
     },
     "execution_count": 137,
     "metadata": {},
     "output_type": "execute_result"
    }
   ],
   "source": [
    "approxs = {\n",
    "    'E' : BohmanE(N, delta, K),\n",
    "}\n",
    "\n",
    "values = []\n",
    "\n",
    "for name in approxs:\n",
    "  approx_func = approxs[name]\n",
    "  approx_func.fit(phi)  \n",
    "\n",
    "  print(1e6 * approx_func.cdf(list(xs)).real - np.array(list(F_exact.values())))\n",
    "\n",
    "  values.append([(approx_func.cdf(x).real * 1e6 - F_exact[x]) for x in xs])\n",
    "\n",
    "values = np.array(values)\n",
    "\n",
    "np.array(values, dtype='int')"
   ]
  }
 ],
 "metadata": {
  "kernelspec": {
   "display_name": "myenv",
   "language": "python",
   "name": "myenv"
  },
  "language_info": {
   "codemirror_mode": {
    "name": "ipython",
    "version": 3
   },
   "file_extension": ".py",
   "mimetype": "text/x-python",
   "name": "python",
   "nbconvert_exporter": "python",
   "pygments_lexer": "ipython3",
   "version": "3.13.1"
  }
 },
 "nbformat": 4,
 "nbformat_minor": 5
}
