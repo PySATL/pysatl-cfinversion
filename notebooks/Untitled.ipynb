{
 "cells": [
  {
   "cell_type": "code",
   "execution_count": null,
   "id": "ce9b4ff8-55b8-4bf2-8de2-798d309036bb",
   "metadata": {},
   "outputs": [],
   "source": []
  },
  {
   "cell_type": "code",
   "execution_count": null,
   "id": "371d9688-573f-4af8-938a-716d6a4ece32",
   "metadata": {},
   "outputs": [],
   "source": []
  },
  {
   "cell_type": "code",
   "execution_count": null,
   "id": "995426a2-d8a6-4401-bc73-35585c890931",
   "metadata": {},
   "outputs": [],
   "source": [
    "chr = unif.chr\n",
    "\n",
    "N = 1e3\n",
    "\n",
    "bochmans_inversers = [BohmanA(), BohmanB(), BohmanC(), BohmanD(), BohmanE()]\n",
    "\n",
    "deltas = np.linspace(0, 1, 30)\n",
    "plt.title('График ошибок')\n",
    "plt.xlabel('delta')\n",
    "plt.ylabel('loss')\n",
    "plt.grid()\n",
    "\n",
    "for inv in bochmans_inversers:\n",
    "    errors = []\n",
    "    for delta in deltas:\n",
    "        inv.delta = delta\n",
    "        inv.fit(chr)\n",
    "        x = np.linspace(-5, 5, 1000)\n",
    "        F_x = inv.cdf(x).real\n",
    "        F_x_true = unif.cdf(x)\n",
    "        errors.append(np.sum((F_x - F_x_true) ** 2))\n",
    "\n",
    "    plt.plot(deltas, errors, label='Функция ошибок')\n",
    "\n",
    "plt.legend(('A', 'B', 'C', 'D', 'E'))\n",
    "plt.show()"
   ]
  }
 ],
 "metadata": {
  "kernelspec": {
   "display_name": "myenv",
   "language": "python",
   "name": "myenv"
  },
  "language_info": {
   "codemirror_mode": {
    "name": "ipython",
    "version": 3
   },
   "file_extension": ".py",
   "mimetype": "text/x-python",
   "name": "python",
   "nbconvert_exporter": "python",
   "pygments_lexer": "ipython3",
   "version": "3.13.1"
  }
 },
 "nbformat": 4,
 "nbformat_minor": 5
}
